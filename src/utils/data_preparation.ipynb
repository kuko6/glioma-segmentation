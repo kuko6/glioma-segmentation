{
 "cells": [
  {
   "cell_type": "code",
   "execution_count": 117,
   "metadata": {
    "collapsed": false,
    "pycharm": {
     "name": "#%%\n"
    }
   },
   "outputs": [],
   "source": [
    "import os\n",
    "import shutil\n",
    "import numpy as np"
   ]
  },
  {
   "cell_type": "markdown",
   "metadata": {},
   "source": [
    "Use for spliting the date into training, validation and testing sets."
   ]
  },
  {
   "cell_type": "code",
   "execution_count": null,
   "metadata": {
    "collapsed": false,
    "pycharm": {
     "name": "#%%\n"
    }
   },
   "outputs": [],
   "source": [
    "print(os.listdir('/Users/kuko/Desktop/projekt/BraTS2021/BraTS2021_Training_Data'))"
   ]
  },
  {
   "cell_type": "code",
   "execution_count": 157,
   "metadata": {
    "collapsed": false,
    "pycharm": {
     "name": "#%%\n"
    }
   },
   "outputs": [],
   "source": [
    "def split_folders(input_folder, output_folder, ratio=[0.60, 0.20, 0.20]):\n",
    "    files = os.listdir(input_folder)\n",
    "    if '.DS_Store' in files:\n",
    "        files.remove('.DS_Store')\n",
    "    np.random.shuffle(files)\n",
    "    #print(files)\n",
    "    print(len(files))\n",
    "\n",
    "    training_index = int(np.ceil(len(files)*ratio[0]))\n",
    "    validation_index = int(np.ceil(len(files)*ratio[1])) + training_index\n",
    "    testing_index = int(np.ceil(len(files)*ratio[2])) + validation_index\n",
    "    print(training_index, validation_index, testing_index)\n",
    "\n",
    "    train = files[:training_index]\n",
    "    val = files[training_index:validation_index]\n",
    "    test = files[validation_index:]\n",
    "    print(len(train))\n",
    "    print(len(val))\n",
    "    print(len(test))\n",
    "\n",
    "    for file in train:\n",
    "        output_path = os.path.join(output_folder, 'train/'+file)\n",
    "        os.makedirs(output_path, exist_ok=True)\n",
    "        shutil.copytree(os.path.join(input_folder, file), output_path, dirs_exist_ok=True)\n",
    "\n",
    "    for file in val:\n",
    "        output_path = os.path.join(output_folder, 'val/'+file)\n",
    "        os.makedirs(output_path, exist_ok=True)\n",
    "        shutil.copytree(os.path.join(input_folder, file), output_path, dirs_exist_ok=True)\n",
    "\n",
    "    for file in test:\n",
    "        output_path = os.path.join(output_folder, 'test/'+file)\n",
    "        os.makedirs(output_path, exist_ok=True)\n",
    "        shutil.copytree(os.path.join(input_folder, file), output_path, dirs_exist_ok=True)"
   ]
  },
  {
   "cell_type": "code",
   "execution_count": 158,
   "metadata": {
    "collapsed": false,
    "pycharm": {
     "name": "#%%\n"
    }
   },
   "outputs": [
    {
     "name": "stdout",
     "output_type": "stream",
     "text": [
      "1251\n",
      "751 1002 1253\n",
      "751\n",
      "251\n",
      "249\n"
     ]
    }
   ],
   "source": [
    "input_folder = '/Users/kuko/Desktop/projekt/BraTS2021/BraTS2021_Training_Data/'\n",
    "output_folder = '/Users/kuko/Desktop/projekt/BraTS2021/'\n",
    "split_folders(input_folder, output_folder, [0.60, 0.20, 0.20])"
   ]
  },
  {
   "cell_type": "code",
   "execution_count": 167,
   "metadata": {
    "collapsed": false,
    "pycharm": {
     "name": "#%%\n"
    }
   },
   "outputs": [],
   "source": [
    "training_files = os.listdir('/Users/kuko/Desktop/projekt/BraTS2021/train')\n",
    "testing_files = os.listdir('/Users/kuko/Desktop/projekt/BraTS2021/test')\n",
    "validation_files = os.listdir('/Users/kuko/Desktop/projekt/BraTS2021/val')"
   ]
  }
 ],
 "metadata": {
  "kernelspec": {
   "display_name": "Python 3",
   "language": "python",
   "name": "python3"
  },
  "language_info": {
   "codemirror_mode": {
    "name": "ipython",
    "version": 2
   },
   "file_extension": ".py",
   "mimetype": "text/x-python",
   "name": "python",
   "nbconvert_exporter": "python",
   "pygments_lexer": "ipython2",
   "version": "2.7.6"
  }
 },
 "nbformat": 4,
 "nbformat_minor": 0
}
