{
 "cells": [
  {
   "cell_type": "code",
   "execution_count": 10,
   "metadata": {
    "collapsed": true
   },
   "outputs": [],
   "source": [
    "from azureml.core import Workspace\n",
    "from azureml.core.authentication import InteractiveLoginAuthentication\n",
    "from azureml.core.datastore import Datastore"
   ]
  },
  {
   "cell_type": "code",
   "execution_count": 11,
   "metadata": {
    "collapsed": false,
    "pycharm": {
     "name": "#%%\n"
    }
   },
   "outputs": [
    {
     "name": "stdout",
     "output_type": "stream",
     "text": [
      "azureSetup.ipynb      azureUpload2.ipynb    config.json\n",
      "azureUpload.ipynb     azureUploadOutput.txt\n"
     ]
    }
   ],
   "source": [
    "!ls"
   ]
  },
  {
   "cell_type": "code",
   "execution_count": 12,
   "metadata": {
    "collapsed": false,
    "pycharm": {
     "name": "#%%\n"
    }
   },
   "outputs": [],
   "source": [
    "ws = Workspace.from_config(path='config.json', auth=InteractiveLoginAuthentication())"
   ]
  },
  {
   "cell_type": "code",
   "execution_count": 13,
   "metadata": {
    "collapsed": false,
    "pycharm": {
     "name": "#%%\n"
    }
   },
   "outputs": [],
   "source": [
    "datastore = Datastore.get_default(ws)"
   ]
  },
  {
   "cell_type": "code",
   "execution_count": 14,
   "metadata": {
    "collapsed": false,
    "pycharm": {
     "name": "#%%\n"
    }
   },
   "outputs": [
    {
     "data": {
      "text/plain": [
       "{\n",
       "  \"name\": \"workspaceblobstore\",\n",
       "  \"container_name\": \"azureml-blobstore-9f07b60f-a3a8-4b4e-9b0f-1ee1e348b750\",\n",
       "  \"account_name\": \"a0047stufiitml9571667507\",\n",
       "  \"protocol\": \"https\",\n",
       "  \"endpoint\": \"core.windows.net\"\n",
       "}"
      ]
     },
     "execution_count": 14,
     "metadata": {},
     "output_type": "execute_result"
    }
   ],
   "source": [
    "datastore"
   ]
  },
  {
   "cell_type": "code",
   "execution_count": 15,
   "metadata": {
    "collapsed": false,
    "pycharm": {
     "name": "#%%\n"
    }
   },
   "outputs": [
    {
     "name": "stdout",
     "output_type": "stream",
     "text": [
      "/Users/kuko/Developer/BP/azure\n"
     ]
    }
   ],
   "source": [
    "import os\n",
    "print(os.getcwd())"
   ]
  },
  {
   "cell_type": "code",
   "execution_count": 16,
   "metadata": {
    "collapsed": false,
    "pycharm": {
     "name": "#%%\n"
    }
   },
   "outputs": [],
   "source": [
    "image4 = '../Hotove_segmentacie/4/'\n",
    "image8 = '../Hotove_segmentacie/8/'\n",
    "image26 = '../Hotove_segmentacie/26/'"
   ]
  },
  {
   "cell_type": "code",
   "execution_count": 17,
   "metadata": {
    "collapsed": false,
    "pycharm": {
     "name": "#%%\n"
    }
   },
   "outputs": [
    {
     "name": "stdout",
     "output_type": "stream",
     "text": [
      "8 4 4\n"
     ]
    }
   ],
   "source": [
    "print(len(os.listdir(image4)), len(os.listdir(image8)), len(os.listdir(image26)))"
   ]
  },
  {
   "cell_type": "code",
   "execution_count": 18,
   "metadata": {
    "collapsed": false,
    "pycharm": {
     "name": "#%%\n"
    }
   },
   "outputs": [],
   "source": [
    "def list_files(path):\n",
    "    files = []\n",
    "    files += [os.path.join(path, file) for file in os.listdir(path) if file.endswith('.nii')]\n",
    "    \n",
    "    return files"
   ]
  },
  {
   "cell_type": "code",
   "execution_count": 19,
   "metadata": {
    "collapsed": false,
    "pycharm": {
     "name": "#%%\n"
    }
   },
   "outputs": [
    {
     "name": "stdout",
     "output_type": "stream",
     "text": [
      "training: 2, validation: 2, testing: 2\n"
     ]
    }
   ],
   "source": [
    "image4_files = list_files(image4)\n",
    "image8_files = list_files(image8)\n",
    "image26_files = list_files(image26)\n",
    "\n",
    "print(f'training: {len(image4_files)}, validation: {len(image8_files)}, testing: {len(image26_files)}')"
   ]
  },
  {
   "cell_type": "code",
   "execution_count": 20,
   "metadata": {
    "collapsed": false,
    "pycharm": {
     "name": "#%%\n"
    }
   },
   "outputs": [
    {
     "name": "stdout",
     "output_type": "stream",
     "text": [
      "6\n"
     ]
    },
    {
     "data": {
      "text/plain": [
       "['../Hotove_segmentacie/4/t1_mprage_tra_iso_ce.nii',\n",
       " '../Hotove_segmentacie/4/Segmentation-label.nii',\n",
       " '../Hotove_segmentacie/8/t1_mpr_sag_p2_iso.nii',\n",
       " '../Hotove_segmentacie/8/Segmentation-label.nii',\n",
       " '../Hotove_segmentacie/26/t1_mprage_tra_iso_ce.nii',\n",
       " '../Hotove_segmentacie/26/Segmentation-label.nii']"
      ]
     },
     "execution_count": 20,
     "metadata": {},
     "output_type": "execute_result"
    }
   ],
   "source": [
    "all_files = image4_files + image8_files + image26_files\n",
    "print(len(all_files))\n",
    "all_files"
   ]
  },
  {
   "cell_type": "code",
   "execution_count": 21,
   "metadata": {
    "collapsed": false,
    "pycharm": {
     "name": "#%%\n"
    }
   },
   "outputs": [
    {
     "name": "stderr",
     "output_type": "stream",
     "text": [
      "\"datastore.upload_files\" is deprecated after version 1.0.69. Please use \"FileDatasetFactory.upload_directory\" instead. See Dataset API change notice at https://aka.ms/dataset-deprecation.\n"
     ]
    },
    {
     "name": "stdout",
     "output_type": "stream",
     "text": [
      "Uploading an estimated of 6 files\n",
      "Uploading ../Hotove_segmentacie/4/t1_mprage_tra_iso_ce.nii\n",
      "Uploaded ../Hotove_segmentacie/4/t1_mprage_tra_iso_ce.nii, 1 files out of an estimated total of 6\n",
      "Uploading ../Hotove_segmentacie/8/Segmentation-label.nii\n",
      "Uploaded ../Hotove_segmentacie/8/Segmentation-label.nii, 2 files out of an estimated total of 6\n",
      "Uploading ../Hotove_segmentacie/4/Segmentation-label.nii\n",
      "Uploaded ../Hotove_segmentacie/4/Segmentation-label.nii, 3 files out of an estimated total of 6\n",
      "Uploading ../Hotove_segmentacie/8/t1_mpr_sag_p2_iso.nii\n",
      "Uploaded ../Hotove_segmentacie/8/t1_mpr_sag_p2_iso.nii, 4 files out of an estimated total of 6\n",
      "Uploading ../Hotove_segmentacie/26/Segmentation-label.nii\n",
      "Uploaded ../Hotove_segmentacie/26/Segmentation-label.nii, 5 files out of an estimated total of 6\n",
      "Uploading ../Hotove_segmentacie/26/t1_mprage_tra_iso_ce.nii\n",
      "Uploaded ../Hotove_segmentacie/26/t1_mprage_tra_iso_ce.nii, 6 files out of an estimated total of 6\n",
      "Uploaded 6 files\n"
     ]
    },
    {
     "data": {
      "text/plain": [
       "$AZUREML_DATAREFERENCE_94ffdddf81494ad79dbb0053683c1bed"
      ]
     },
     "execution_count": 21,
     "metadata": {},
     "output_type": "execute_result"
    }
   ],
   "source": [
    "datastore.upload_files(files=all_files, relative_root='../Hotove_segmentacie/', target_path='datasets/BraTS2021/Hotove_segmentacie/')"
   ]
  },
  {
   "cell_type": "code",
   "execution_count": null,
   "metadata": {
    "collapsed": false,
    "pycharm": {
     "name": "#%%\n"
    }
   },
   "outputs": [],
   "source": []
  }
 ],
 "metadata": {
  "kernelspec": {
   "display_name": "Python 3",
   "language": "python",
   "name": "python3"
  },
  "language_info": {
   "codemirror_mode": {
    "name": "ipython",
    "version": 3
   },
   "file_extension": ".py",
   "mimetype": "text/x-python",
   "name": "python",
   "nbconvert_exporter": "python",
   "pygments_lexer": "ipython3",
   "version": "3.9.10"
  }
 },
 "nbformat": 4,
 "nbformat_minor": 0
}
